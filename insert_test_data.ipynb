{
 "cells": [
  {
   "cell_type": "code",
   "execution_count": 1,
   "id": "7c6693d8",
   "metadata": {},
   "outputs": [],
   "source": [
    "import sys\n",
    "import os\n",
    "sys.path.append(os.getcwd())\n"
   ]
  },
  {
   "cell_type": "code",
   "execution_count": 2,
   "id": "ddd38afa",
   "metadata": {},
   "outputs": [],
   "source": [
    "from db.base import engine, Base, SessionLocal\n",
    "from db.models import (\n",
    "    User, Kid, HardLetter, Story, StorySentence,\n",
    "    KidStoryProgress, Hint, SpeechAttempt,AgeGroupEnum,GenderEnum\n",
    ")\n"
   ]
  },
  {
   "cell_type": "code",
   "execution_count": 3,
   "id": "ac7d80b2",
   "metadata": {},
   "outputs": [],
   "source": [
    "session = SessionLocal()\n"
   ]
  },
  {
   "cell_type": "code",
   "execution_count": 4,
   "id": "331657e5",
   "metadata": {},
   "outputs": [],
   "source": [
    "new_user = User(\n",
    "    name=\"Alya\",\n",
    "    email=\"Alya@example.com\",\n",
    "    password_hash=\"hashed_password\"\n",
    ")\n",
    "session.add(new_user)\n",
    "session.commit()\n"
   ]
  },
  {
   "cell_type": "code",
   "execution_count": 5,
   "id": "7c51e78b",
   "metadata": {},
   "outputs": [
    {
     "name": "stdout",
     "output_type": "stream",
     "text": [
      "Zain zain@example.com\n",
      "Alya Alya@example.com\n"
     ]
    }
   ],
   "source": [
    "users = session.query(User).all()\n",
    "for user in users:\n",
    "    print(user.name, user.email)\n"
   ]
  },
  {
   "cell_type": "code",
   "execution_count": 7,
   "id": "67dd60d2",
   "metadata": {},
   "outputs": [],
   "source": [
    "new_kid = Kid(\n",
    "    name=\"Ali\",\n",
    "    age_group=AgeGroupEnum.group_5_8,\n",
    "    gender=GenderEnum.M,\n",
    "    parent=new_user  # if you already added new_user\n",
    ")\n",
    "\n",
    "session.add(new_kid)\n",
    "session.commit()\n"
   ]
  },
  {
   "cell_type": "code",
   "execution_count": 9,
   "id": "cb1281e1",
   "metadata": {},
   "outputs": [
    {
     "name": "stdout",
     "output_type": "stream",
     "text": [
      "Ali M\n"
     ]
    }
   ],
   "source": [
    "kids = session.query(Kid).all()\n",
    "for kid in kids:\n",
    "    print(kid.name, kid.gender.value)"
   ]
  }
 ],
 "metadata": {
  "kernelspec": {
   "display_name": "venv",
   "language": "python",
   "name": "python3"
  },
  "language_info": {
   "codemirror_mode": {
    "name": "ipython",
    "version": 3
   },
   "file_extension": ".py",
   "mimetype": "text/x-python",
   "name": "python",
   "nbconvert_exporter": "python",
   "pygments_lexer": "ipython3",
   "version": "3.12.10"
  }
 },
 "nbformat": 4,
 "nbformat_minor": 5
}
