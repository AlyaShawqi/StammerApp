{
 "cells": [
  {
   "cell_type": "code",
   "execution_count": 19,
   "id": "7c6693d8",
   "metadata": {},
   "outputs": [],
   "source": [
    "import sys\n",
    "import os\n",
    "sys.path.append(os.getcwd())\n"
   ]
  },
  {
   "cell_type": "code",
   "execution_count": 1,
   "id": "ddd38afa",
   "metadata": {},
   "outputs": [],
   "source": [
    "from db.base import engine, Base, SessionLocal\n",
    "from db.models import (\n",
    "    User, Kid, HardLetter, Story, StorySentence,\n",
    "    KidStoryProgress, Hint, SpeechAttempt\n",
    ")\n"
   ]
  },
  {
   "cell_type": "code",
   "execution_count": 2,
   "id": "ac7d80b2",
   "metadata": {},
   "outputs": [],
   "source": [
    "session = SessionLocal()\n"
   ]
  },
  {
   "cell_type": "code",
   "execution_count": 3,
   "id": "331657e5",
   "metadata": {},
   "outputs": [],
   "source": [
    "new_user = User(\n",
    "    name=\"Zain\",\n",
    "    email=\"zain@example.com\",\n",
    "    password_hash=\"hashed_password\"\n",
    ")\n",
    "session.add(new_user)\n",
    "session.commit()\n"
   ]
  },
  {
   "cell_type": "code",
   "execution_count": 4,
   "id": "7c51e78b",
   "metadata": {},
   "outputs": [
    {
     "name": "stdout",
     "output_type": "stream",
     "text": [
      "Zain zain@example.com\n"
     ]
    }
   ],
   "source": [
    "users = session.query(User).all()\n",
    "for user in users:\n",
    "    print(user.name, user.email)\n"
   ]
  }
 ],
 "metadata": {
  "kernelspec": {
   "display_name": "venv",
   "language": "python",
   "name": "python3"
  },
  "language_info": {
   "codemirror_mode": {
    "name": "ipython",
    "version": 3
   },
   "file_extension": ".py",
   "mimetype": "text/x-python",
   "name": "python",
   "nbconvert_exporter": "python",
   "pygments_lexer": "ipython3",
   "version": "3.12.10"
  }
 },
 "nbformat": 4,
 "nbformat_minor": 5
}
